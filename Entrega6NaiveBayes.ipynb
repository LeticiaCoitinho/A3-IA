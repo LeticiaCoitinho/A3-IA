{
  "nbformat": 4,
  "nbformat_minor": 0,
  "metadata": {
    "colab": {
      "provenance": [],
      "authorship_tag": "ABX9TyNYlij5/g9NVcDh114jLKb1",
      "include_colab_link": true
    },
    "kernelspec": {
      "name": "python3",
      "display_name": "Python 3"
    },
    "language_info": {
      "name": "python"
    }
  },
  "cells": [
    {
      "cell_type": "markdown",
      "metadata": {
        "id": "view-in-github",
        "colab_type": "text"
      },
      "source": [
        "<a href=\"https://colab.research.google.com/github/LeticiaCoitinho/A3-IA/blob/main/Entrega6NaiveBayes.ipynb\" target=\"_parent\"><img src=\"https://colab.research.google.com/assets/colab-badge.svg\" alt=\"Open In Colab\"/></a>"
      ]
    },
    {
      "cell_type": "code",
      "execution_count": null,
      "metadata": {
        "id": "P7O402fdP4k8"
      },
      "outputs": [],
      "source": [
        "import numpy as np\n",
        "import pandas as pd\n",
        "from matplotlib import pyplot as plt\n",
        "import seaborn as sns"
      ]
    },
    {
      "cell_type": "code",
      "source": [
        "from sklearn.neighbors import KNeighborsClassifier\n",
        "from sklearn.model_selection import train_test_split\n",
        "from sklearn.metrics import confusion_matrix\n",
        "from sklearn import preprocessing\n",
        "from sklearn.naive_bayes import GaussianNB\n",
        "from sklearn.naive_bayes import MultinomialNB\n",
        "from sklearn.naive_bayes import BernoulliNB\n",
        "\n",
        "data = pd.read_csv(\"Employee.csv\")\n",
        "\n",
        "data.drop('City',axis=1,inplace=True)\n",
        "data.drop('JoiningYear', axis=1, inplace=True)\n",
        "\n",
        "le = preprocessing.LabelEncoder()\n",
        "Education_encode = le.fit_transform(data['Education'])\n",
        "Gender_encode = le.fit_transform(data['Gender'])\n",
        "EverBenched_encode = le.fit_transform(data['EverBenched'])\n",
        "print(Education_encode)\n",
        "print(Gender_encode)\n",
        "print(EverBenched_encode)"
      ],
      "metadata": {
        "colab": {
          "base_uri": "https://localhost:8080/"
        },
        "id": "PHETag85QdHl",
        "outputId": "82eba118-2b76-43a6-bf22-4c65e4602dee"
      },
      "execution_count": null,
      "outputs": [
        {
          "output_type": "stream",
          "name": "stdout",
          "text": [
            "[0 0 0 ... 1 0 0]\n",
            "[1 0 0 ... 1 1 1]\n",
            "[0 0 0 ... 0 1 1]\n"
          ]
        }
      ]
    },
    {
      "cell_type": "code",
      "source": [
        "data.drop(['Education', 'Gender', 'EverBenched'], axis=1, inplace=True)"
      ],
      "metadata": {
        "id": "thPWSDtsRpfT"
      },
      "execution_count": null,
      "outputs": []
    },
    {
      "cell_type": "code",
      "source": [
        "X = data[['PaymentTier', 'Age', 'ExperienceInCurrentDomain', 'LeaveOrNot' ]]\n",
        "X['Education'] = Education_encode\n",
        "X['Gender'] = Gender_encode\n",
        "y = EverBenched_encode\n",
        "print(X)\n",
        "print(y)"
      ],
      "metadata": {
        "colab": {
          "base_uri": "https://localhost:8080/"
        },
        "id": "dyWwl7hCRsZw",
        "outputId": "fad14e2d-5c48-4b68-db53-6aadb0bf6814"
      },
      "execution_count": null,
      "outputs": [
        {
          "output_type": "stream",
          "name": "stdout",
          "text": [
            "      PaymentTier  Age  ExperienceInCurrentDomain  LeaveOrNot  Education  \\\n",
            "0               3   34                          0           0          0   \n",
            "1               1   28                          3           1          0   \n",
            "2               3   38                          2           0          0   \n",
            "3               3   27                          5           1          1   \n",
            "4               3   24                          2           1          1   \n",
            "...           ...  ...                        ...         ...        ...   \n",
            "4648            3   26                          4           0          0   \n",
            "4649            2   37                          2           1          1   \n",
            "4650            3   27                          5           1          1   \n",
            "4651            3   30                          2           0          0   \n",
            "4652            3   33                          4           0          0   \n",
            "\n",
            "      Gender  \n",
            "0          1  \n",
            "1          0  \n",
            "2          0  \n",
            "3          1  \n",
            "4          1  \n",
            "...      ...  \n",
            "4648       0  \n",
            "4649       1  \n",
            "4650       1  \n",
            "4651       1  \n",
            "4652       1  \n",
            "\n",
            "[4653 rows x 6 columns]\n",
            "[0 0 0 ... 0 1 1]\n"
          ]
        }
      ]
    },
    {
      "cell_type": "code",
      "source": [
        "(X_train, X_test, y_train, y_test) = train_test_split(X,y)\n",
        "modelo1 = GaussianNB()\n",
        "modelo1.fit(X_train, y_train)\n",
        "precisao1 = str(round(modelo1.score(X_test, y_test)* 100,2))+\"%\"\n",
        "print('A acurácia do modelo 1 foi: ', precisao1)\n",
        "y_pred = modelo1.predict(X_test)\n",
        "print(confusion_matrix(y_test, y_pred))"
      ],
      "metadata": {
        "colab": {
          "base_uri": "https://localhost:8080/"
        },
        "id": "w_jWiMy-R4O_",
        "outputId": "551a4fac-1d94-47e9-9d8e-a4848246713a"
      },
      "execution_count": null,
      "outputs": [
        {
          "output_type": "stream",
          "name": "stdout",
          "text": [
            "A acurácia do modelo 1 foi:  90.64%\n",
            "[[1055    0]\n",
            " [ 109    0]]\n"
          ]
        }
      ]
    },
    {
      "cell_type": "code",
      "source": [
        "modelo2 = MultinomialNB()\n",
        "modelo2.fit(X_train, y_train)\n",
        "precisao2 = str(round(modelo2.score(X_test,y_test) * 100, 2))+\"%\"\n",
        "print('A acurácia do modelo 2 foi: ', precisao2)\n",
        "y_pred = modelo2.predict(X_test)\n",
        "print(confusion_matrix(y_test, y_pred))"
      ],
      "metadata": {
        "colab": {
          "base_uri": "https://localhost:8080/"
        },
        "id": "2z_dElPkTlw0",
        "outputId": "61113efc-6d9e-4108-8c21-b347880407e1"
      },
      "execution_count": null,
      "outputs": [
        {
          "output_type": "stream",
          "name": "stdout",
          "text": [
            "A acurácia do modelo 2 foi:  90.64%\n",
            "[[1055    0]\n",
            " [ 109    0]]\n"
          ]
        }
      ]
    },
    {
      "cell_type": "code",
      "source": [
        "modelo3 = BernoulliNB()\n",
        "modelo3.fit(X_train,y_train)\n",
        "precisao3 = str(round(modelo3.score(X_test,y_test) * 100, 2))+\"%\"\n",
        "print(\"A acurácia do modelo 3 foi\",precisao3)\n",
        "y_pred = modelo3.predict(X_test)\n",
        "print(confusion_matrix(y_test, y_pred))"
      ],
      "metadata": {
        "colab": {
          "base_uri": "https://localhost:8080/"
        },
        "id": "eLQQRT68Uix8",
        "outputId": "0ce17fc6-c184-4e44-b9a5-875149b28eeb"
      },
      "execution_count": null,
      "outputs": [
        {
          "output_type": "stream",
          "name": "stdout",
          "text": [
            "A acurácia do modelo 3 foi 90.64%\n",
            "[[1055    0]\n",
            " [ 109    0]]\n"
          ]
        }
      ]
    }
  ]
}