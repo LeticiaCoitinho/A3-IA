{
  "nbformat": 4,
  "nbformat_minor": 0,
  "metadata": {
    "colab": {
      "provenance": [],
      "authorship_tag": "ABX9TyN5DSbMPmZqFMdPdDhQ5MSd",
      "include_colab_link": true
    },
    "kernelspec": {
      "name": "python3",
      "display_name": "Python 3"
    },
    "language_info": {
      "name": "python"
    }
  },
  "cells": [
    {
      "cell_type": "markdown",
      "metadata": {
        "id": "view-in-github",
        "colab_type": "text"
      },
      "source": [
        "<a href=\"https://colab.research.google.com/github/LeticiaCoitinho/A3-IA/blob/main/Entrega5KNN.ipynb\" target=\"_parent\"><img src=\"https://colab.research.google.com/assets/colab-badge.svg\" alt=\"Open In Colab\"/></a>"
      ]
    },
    {
      "cell_type": "code",
      "source": [
        "import numpy as np\n",
        "import pandas as pd\n",
        "from matplotlib import pyplot as plt\n",
        "import seaborn as sns\n",
        "sns.set()"
      ],
      "metadata": {
        "id": "Fi1dd_4K31hd"
      },
      "execution_count": null,
      "outputs": []
    },
    {
      "cell_type": "code",
      "source": [
        "data = pd.read_csv(\"Employee.csv\")\n",
        "from sklearn.neighbors import KNeighborsClassifier\n",
        "from sklearn.model_selection import train_test_split\n",
        "from sklearn.metrics import confusion_matrix\n",
        "from sklearn import preprocessing\n",
        "\n",
        "data.drop('City',axis=1,inplace=True)\n",
        "data.drop('JoiningYear', axis=1, inplace=True)\n",
        "\n",
        "le = preprocessing.LabelEncoder()\n",
        "Education_encode = le.fit_transform(data['Education'])\n",
        "Gender_encode = le.fit_transform(data['Gender'])\n",
        "EverBenched_encode = le.fit_transform(data['EverBenched'])\n",
        "print(Education_encode)\n",
        "print(Gender_encode)\n",
        "print(EverBenched_encode)"
      ],
      "metadata": {
        "id": "HOlNefMH6hfP",
        "colab": {
          "base_uri": "https://localhost:8080/"
        },
        "outputId": "185c240d-3384-420e-9bcc-1c449a36defc"
      },
      "execution_count": null,
      "outputs": [
        {
          "output_type": "stream",
          "name": "stdout",
          "text": [
            "[0 0 0 ... 1 0 0]\n",
            "[1 0 0 ... 1 1 1]\n",
            "[0 0 0 ... 0 1 1]\n"
          ]
        }
      ]
    },
    {
      "cell_type": "code",
      "source": [
        "data.drop(['Education', 'Gender', 'EverBenched'], axis=1, inplace=True)"
      ],
      "metadata": {
        "id": "17LkkWXU-YWh"
      },
      "execution_count": null,
      "outputs": []
    },
    {
      "cell_type": "code",
      "source": [
        "X = data[['PaymentTier', 'Age', 'ExperienceInCurrentDomain', 'LeaveOrNot' ]]\n",
        "X['Education'] = Education_encode\n",
        "X['Gender'] = Gender_encode\n",
        "y = EverBenched_encode\n",
        "print(X)\n",
        "print(y)"
      ],
      "metadata": {
        "colab": {
          "base_uri": "https://localhost:8080/"
        },
        "id": "sRLs7Qjo-8JA",
        "outputId": "e31f5892-2a05-419a-f594-eff38582cc66"
      },
      "execution_count": null,
      "outputs": [
        {
          "output_type": "stream",
          "name": "stdout",
          "text": [
            "      PaymentTier  Age  ExperienceInCurrentDomain  LeaveOrNot  Education  \\\n",
            "0               3   34                          0           0          0   \n",
            "1               1   28                          3           1          0   \n",
            "2               3   38                          2           0          0   \n",
            "3               3   27                          5           1          1   \n",
            "4               3   24                          2           1          1   \n",
            "...           ...  ...                        ...         ...        ...   \n",
            "4648            3   26                          4           0          0   \n",
            "4649            2   37                          2           1          1   \n",
            "4650            3   27                          5           1          1   \n",
            "4651            3   30                          2           0          0   \n",
            "4652            3   33                          4           0          0   \n",
            "\n",
            "      Gender  \n",
            "0          1  \n",
            "1          0  \n",
            "2          0  \n",
            "3          1  \n",
            "4          1  \n",
            "...      ...  \n",
            "4648       0  \n",
            "4649       1  \n",
            "4650       1  \n",
            "4651       1  \n",
            "4652       1  \n",
            "\n",
            "[4653 rows x 6 columns]\n",
            "[0 0 0 ... 0 1 1]\n"
          ]
        }
      ]
    },
    {
      "cell_type": "code",
      "source": [
        "X_train, X_test, y_train, y_test = train_test_split(X, y, random_state=1)\n",
        "knn=KNeighborsClassifier(n_neighbors=5, metric='euclidean')\n",
        "knn.fit(X_train, y_train)\n",
        "\n",
        "y_pred = knn.predict(X_test)\n",
        "print(y_pred)"
      ],
      "metadata": {
        "colab": {
          "base_uri": "https://localhost:8080/"
        },
        "outputId": "eff223d3-4c4b-4a00-b078-1e2eba9755b2",
        "id": "i_I4Nl39DSU9"
      },
      "execution_count": null,
      "outputs": [
        {
          "output_type": "stream",
          "name": "stdout",
          "text": [
            "[0 0 0 ... 0 0 0]\n"
          ]
        }
      ]
    },
    {
      "cell_type": "code",
      "source": [
        "plt.scatter(\n",
        "    X_test['Age'],\n",
        "    X_test['ExperienceInCurrentDomain'],\n",
        "    c=y_pred,\n",
        "    cmap='coolwarm',\n",
        "    alpha=0.7\n",
        ")"
      ],
      "metadata": {
        "colab": {
          "base_uri": "https://localhost:8080/",
          "height": 451
        },
        "id": "-b40jz4I5BVa",
        "outputId": "b1199d1e-25ad-4305-f8e5-3041f4e0d3b4"
      },
      "execution_count": null,
      "outputs": [
        {
          "output_type": "execute_result",
          "data": {
            "text/plain": [
              "<matplotlib.collections.PathCollection at 0x79ed1766e1d0>"
            ]
          },
          "metadata": {},
          "execution_count": 44
        },
        {
          "output_type": "display_data",
          "data": {
            "text/plain": [
              "<Figure size 640x480 with 1 Axes>"
            ],
            "image/png": "[encoded data removed]"
          },
          "metadata": {}
        }
      ]
    },
    {
      "cell_type": "code",
      "source": [
        "print(confusion_matrix(y_test, y_pred))\n",
        "print(knn.score(X_test, y_test))"
      ],
      "metadata": {
        "colab": {
          "base_uri": "https://localhost:8080/"
        },
        "id": "DdQDKtxqJHwL",
        "outputId": "62eded12-be9f-4f24-f005-54ec559991ca"
      },
      "execution_count": null,
      "outputs": [
        {
          "output_type": "stream",
          "name": "stdout",
          "text": [
            "[[1036   15]\n",
            " [ 113    0]]\n",
            "0.8900343642611683\n"
          ]
        }
      ]
    }
  ]
}